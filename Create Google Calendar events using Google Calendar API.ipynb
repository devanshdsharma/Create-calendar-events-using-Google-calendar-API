{
 "cells": [
  {
   "cell_type": "markdown",
   "metadata": {
    "ExecuteTime": {
     "end_time": "2020-05-18T17:45:11.743977Z",
     "start_time": "2020-05-18T17:45:11.731973Z"
    }
   },
   "source": [
    "## <i> Creating calendar in Google calendar using event data from Google sheets </i>\n"
   ]
  },
  {
   "cell_type": "markdown",
   "metadata": {},
   "source": [
    "<strong> Aim: </strong> To read event creation raw data from a Google Sheet such as Event title, summary, start datetime, end datetime, address, email ID(of the individual for whom the event will be created) and to create Google calendar events for the individuals mentioned in the email field using the said raw data via Google Calendar API.\n",
    "<p>\n",
    "    <strong> Google sheet link: </strong> https://docs.google.com/spreadsheets/d/1XYQG_mAisQrNRMiRpOCCHPIJuy-T9RbaEtURvv_O5Os/edit?usp=sharing"
   ]
  },
  {
   "cell_type": "markdown",
   "metadata": {},
   "source": [
    "## fetch raw data + create event dicts"
   ]
  },
  {
   "cell_type": "code",
   "execution_count": 10,
   "metadata": {
    "ExecuteTime": {
     "end_time": "2020-05-18T14:19:28.633683Z",
     "start_time": "2020-05-18T14:19:17.304696Z"
    },
    "code_folding": []
   },
   "outputs": [],
   "source": [
    "# imports\n",
    "\n",
    "#-----Google Api packages\n",
    "from __future__ import print_function\n",
    "import pickle\n",
    "import os.path\n",
    "from googleapiclient.discovery import build\n",
    "from google_auth_oauthlib.flow import InstalledAppFlow\n",
    "from google.auth.transport.requests import Request\n",
    "#----\n",
    "\n",
    "#----file manipulation packages\n",
    "import time\n",
    "import pandas as pd\n",
    "import ast\n",
    "import datetime\n",
    "#----\n",
    "\n",
    "#----standard functionality\n",
    "import math\n",
    "from datetime import date\n",
    "import os\n",
    "from datetime import datetime\n",
    "import pprint as pp\n",
    "#----"
   ]
  },
  {
   "cell_type": "code",
   "execution_count": 11,
   "metadata": {
    "ExecuteTime": {
     "end_time": "2020-05-18T14:19:29.424821Z",
     "start_time": "2020-05-18T14:19:29.216355Z"
    },
    "code_folding": []
   },
   "outputs": [],
   "source": [
    "#----  Google Sheet CRUD functions\n",
    "\n",
    "# If modifying these scopes, delete the file token.pickle.\n",
    "SCOPES = ['https://www.googleapis.com/auth/spreadsheets']\n",
    "\n",
    "\n",
    "def clear2gs(SAMPLE_SPREADSHEET_ID, SAMPLE_RANGE_NAME, json_credential_file):\n",
    "    \"\"\"Shows basic usage of the Sheets API.\n",
    "    Prints values from a sample spreadsheet.\n",
    "    \"\"\"\n",
    "\n",
    "    # The ID and range of a sample spreadsheet.\n",
    "\n",
    "    creds = None\n",
    "    # The file token.pickle stores the user's access and refresh tokens, and is\n",
    "    # created automatically when the authorization flow completes for the first\n",
    "    # time.\n",
    "    if os.path.exists('token.pickle'):\n",
    "        with open('token.pickle', 'rb') as token:\n",
    "            creds = pickle.load(token)\n",
    "    # If there are no (valid) credentials available, let the user log in.\n",
    "    if not creds or not creds.valid:\n",
    "        if creds and creds.expired and creds.refresh_token:\n",
    "            creds.refresh(Request())\n",
    "        else:\n",
    "            flow = InstalledAppFlow.from_client_secrets_file(\n",
    "                json_credential_file, SCOPES)\n",
    "            creds = flow.run_local_server(port=0)\n",
    "        # Save the credentials for the next run\n",
    "        with open('token.pickle', 'wb') as token:\n",
    "            pickle.dump(creds, token)\n",
    "\n",
    "    service = build('sheets', 'v4', credentials=creds)\n",
    "\n",
    "    body = {'valueInputOption': \"RAW\"}\n",
    "\n",
    "    request = service.spreadsheets().values().clear(\n",
    "        spreadsheetId=SAMPLE_SPREADSHEET_ID, range=SAMPLE_RANGE_NAME,\n",
    "        body={}).execute()\n",
    "\n",
    "\n",
    "def write2gs(values, SAMPLE_SPREADSHEET_ID, SAMPLE_RANGE_NAME,\n",
    "             json_credential_file):\n",
    "\n",
    "    creds = None\n",
    "    if os.path.exists('token.pickle'):\n",
    "        with open('token.pickle', 'rb') as token:\n",
    "            creds = pickle.load(token)\n",
    "    if not creds or not creds.valid:\n",
    "        if creds and creds.expired and creds.refresh_token:\n",
    "            creds.refresh(Request())\n",
    "        else:\n",
    "            flow = InstalledAppFlow.from_client_secrets_file(\n",
    "                json_credential_file, SCOPES)\n",
    "            creds = flow.run_local_server(port=0)\n",
    "        with open('token.pickle', 'wb') as token:\n",
    "            pickle.dump(creds, token)\n",
    "\n",
    "    service = build('sheets', 'v4', credentials=creds)\n",
    "\n",
    "    data = [\n",
    "        {\n",
    "            'range': SAMPLE_RANGE_NAME,\n",
    "            'values': values\n",
    "        },\n",
    "    ]\n",
    "    body = {'valueInputOption': \"RAW\", 'data': data}\n",
    "    result = service.spreadsheets().values().batchUpdate(\n",
    "        spreadsheetId=SAMPLE_SPREADSHEET_ID, body=body).execute()\n",
    "\n",
    "\n",
    "def read_gs(SAMPLE_SPREADSHEET_ID, SAMPLE_RANGE_NAME):\n",
    "    import pprint as pp\n",
    "    \"\"\"Shows basic usage of the Sheets API.\n",
    "    Prints values from a sample spreadsheet.\n",
    "    \"\"\"\n",
    "    creds = None\n",
    "    # The file token.pickle stores the user's access and refresh tokens, and is\n",
    "    # created automatically when the authorization flow completes for the first\n",
    "    # time.\n",
    "    if os.path.exists('token.pickle'):\n",
    "        with open('token.pickle', 'rb') as token:\n",
    "            creds = pickle.load(token)\n",
    "    # If there are no (valid) credentials available, let the user log in.\n",
    "    if not creds or not creds.valid:\n",
    "        if creds and creds.expired and creds.refresh_token:\n",
    "            creds.refresh(Request())\n",
    "        else:\n",
    "            flow = InstalledAppFlow.from_client_secrets_file(\n",
    "                'credentials.json', SCOPES)\n",
    "            creds = flow.run_local_server(port=0)\n",
    "        # Save the credentials for the next run\n",
    "        with open('token.pickle', 'wb') as token:\n",
    "            pickle.dump(creds, token)\n",
    "\n",
    "    service = build('sheets', 'v4', credentials=creds)\n",
    "\n",
    "    # Call the Sheets API\n",
    "    sheet = service.spreadsheets()\n",
    "    result = sheet.values().get(spreadsheetId=SAMPLE_SPREADSHEET_ID,\n",
    "                                range=SAMPLE_RANGE_NAME).execute()\n",
    "    values = result.get('values', [])\n",
    "\n",
    "    #     for item in result, values:\n",
    "    #         pp.pprint(item)\n",
    "    return result, values\n",
    "\n",
    "\n",
    "# Google Sheets update functions end here"
   ]
  },
  {
   "cell_type": "code",
   "execution_count": 12,
   "metadata": {
    "ExecuteTime": {
     "end_time": "2020-05-18T14:19:30.073429Z",
     "start_time": "2020-05-18T14:19:29.953420Z"
    },
    "code_folding": []
   },
   "outputs": [],
   "source": [
    "#GSheet to pd.DataFrame functions\n",
    "\n",
    "\n",
    "def Create_Service(client_secret_file, api_name, api_version, *scopes):\n",
    "    #     print(client_secret_file, api_name, api_version, scopes, sep='-')\n",
    "    CLIENT_SECRET_FILE = client_secret_file\n",
    "    API_SERVICE_NAME = api_name\n",
    "    API_VERSION = api_version\n",
    "    SCOPES = [scope for scope in scopes[0]]\n",
    "    #     print(SCOPES)\n",
    "\n",
    "    cred = None\n",
    "\n",
    "    pickle_file = f'token_{API_SERVICE_NAME}_{API_VERSION}.pickle'\n",
    "\n",
    "    if os.path.exists(pickle_file):\n",
    "        with open(pickle_file, 'rb') as token:\n",
    "            cred = pickle.load(token)\n",
    "\n",
    "    if not cred or not cred.valid:\n",
    "        if cred and cred.expired and cred.refresh_token:\n",
    "            cred.refresh(Request())\n",
    "        else:\n",
    "            flow = InstalledAppFlow.from_client_secrets_file(\n",
    "                CLIENT_SECRET_FILE, SCOPES)\n",
    "            cred = flow.run_local_server()\n",
    "\n",
    "        with open(pickle_file, 'wb') as token:\n",
    "            pickle.dump(cred, token)\n",
    "\n",
    "    try:\n",
    "        service = build(API_SERVICE_NAME, API_VERSION, credentials=cred)\n",
    "        #         print(API_SERVICE_NAME, 'service created successfully')\n",
    "        print('RD fetch auth flow completed successfully!')\n",
    "        return service\n",
    "    except Exception as e:\n",
    "        print('RD fetch auth flow completed failed!')\n",
    "        print(e)\n",
    "    return None\n",
    "\n",
    "\n",
    "def convert_to_RFC_datetime(year=1900, month=1, day=1, hour=0, minute=0):\n",
    "    dt = datetime.datetime(year, month, day, hour, minute, 0).isoformat() + 'Z'\n",
    "    return dt"
   ]
  },
  {
   "cell_type": "code",
   "execution_count": 13,
   "metadata": {
    "ExecuteTime": {
     "end_time": "2020-05-18T14:19:37.148700Z",
     "start_time": "2020-05-18T14:19:30.132568Z"
    },
    "code_folding": []
   },
   "outputs": [
    {
     "name": "stdout",
     "output_type": "stream",
     "text": [
      "RD fetch auth flow completed successfully!\n",
      "Raw DF fetched!\n"
     ]
    }
   ],
   "source": [
    "# fetch & print the DF\n",
    "\n",
    "CLIENT_SECRET_FILE = 'credentials.json'\n",
    "API_SERVICE_NAME = 'sheets'\n",
    "API_VERSION = 'v4'\n",
    "SCOPES = ['https://www.googleapis.com/auth/spreadsheets.readonly']\n",
    "gsheetId = '1XYQG_mAisQrNRMiRpOCCHPIJuy-T9RbaEtURvv_O5Os'\n",
    "\n",
    "s = Create_Service(CLIENT_SECRET_FILE, API_SERVICE_NAME, API_VERSION, SCOPES)\n",
    "gs = s.spreadsheets()\n",
    "rows = gs.values().get(spreadsheetId=gsheetId,\n",
    "                       range='Create Events!A1:O100').execute()\n",
    "data = rows.get('values')\n",
    "raw_df = pd.DataFrame(data)\n",
    "print('Raw DF fetched!')\n",
    "# print(\"\\n\\n\", \"-\" * 58 , \"RAW - DF\", \"-\" * 58)\n",
    "# raw_df"
   ]
  },
  {
   "cell_type": "code",
   "execution_count": 14,
   "metadata": {
    "ExecuteTime": {
     "end_time": "2020-05-18T14:19:40.392017Z",
     "start_time": "2020-05-18T14:19:40.140900Z"
    }
   },
   "outputs": [
    {
     "data": {
      "text/html": [
       "<div>\n",
       "<style scoped>\n",
       "    .dataframe tbody tr th:only-of-type {\n",
       "        vertical-align: middle;\n",
       "    }\n",
       "\n",
       "    .dataframe tbody tr th {\n",
       "        vertical-align: top;\n",
       "    }\n",
       "\n",
       "    .dataframe thead th {\n",
       "        text-align: right;\n",
       "    }\n",
       "</style>\n",
       "<table border=\"1\" class=\"dataframe\">\n",
       "  <thead>\n",
       "    <tr style=\"text-align: right;\">\n",
       "      <th></th>\n",
       "      <th>0</th>\n",
       "      <th>1</th>\n",
       "      <th>2</th>\n",
       "      <th>3</th>\n",
       "      <th>4</th>\n",
       "      <th>5</th>\n",
       "      <th>6</th>\n",
       "      <th>7</th>\n",
       "      <th>8</th>\n",
       "      <th>9</th>\n",
       "      <th>10</th>\n",
       "      <th>11</th>\n",
       "      <th>12</th>\n",
       "      <th>13</th>\n",
       "    </tr>\n",
       "  </thead>\n",
       "  <tbody>\n",
       "    <tr>\n",
       "      <th>5</th>\n",
       "      <td>Devansh D. Sharma</td>\n",
       "      <td>01_devansh@domain.com</td>\n",
       "      <td>Summary_4</td>\n",
       "      <td>Please go to Summary_4 at timings mentioned in...</td>\n",
       "      <td>Address_4</td>\n",
       "      <td>2020-05-19</td>\n",
       "      <td>9:00:00</td>\n",
       "      <td>2020-05-19</td>\n",
       "      <td>18:00:00</td>\n",
       "      <td>2020-05-19T9:00:00.000+02:00</td>\n",
       "      <td>2020-05-19T18:00:00.000+02:00</td>\n",
       "      <td>None</td>\n",
       "      <td>None</td>\n",
       "      <td>None</td>\n",
       "    </tr>\n",
       "  </tbody>\n",
       "</table>\n",
       "</div>"
      ],
      "text/plain": [
       "                   0                      1          2  \\\n",
       "5  Devansh D. Sharma  01_devansh@domain.com  Summary_4   \n",
       "\n",
       "                                                   3          4           5  \\\n",
       "5  Please go to Summary_4 at timings mentioned in...  Address_4  2020-05-19   \n",
       "\n",
       "         6           7         8                             9  \\\n",
       "5  9:00:00  2020-05-19  18:00:00  2020-05-19T9:00:00.000+02:00   \n",
       "\n",
       "                              10    11    12    13  \n",
       "5  2020-05-19T18:00:00.000+02:00  None  None  None  "
      ]
     },
     "execution_count": 14,
     "metadata": {},
     "output_type": "execute_result"
    }
   ],
   "source": [
    "# create a df containing only the rows for which events are yet to be created\n",
    "# logic of Y_colm --> Every time an event is created, a Y is put in the google sheet indicating successful event creation\n",
    "# in order to avoid re-creating events, I've employ a log that avoids rows which have a \"Y\" in the  event_created column\n",
    "Y_colm = pd.Series(raw_df[12])\n",
    "last_Y = Y_colm.where(Y_colm == 'Y').last_valid_index() + 1\n",
    "\n",
    "df = raw_df.iloc[last_Y:]\n",
    "df\n",
    "\n",
    "############################ add a condition here to only continue if df len > 0"
   ]
  },
  {
   "cell_type": "code",
   "execution_count": 15,
   "metadata": {
    "ExecuteTime": {
     "end_time": "2020-05-18T14:19:42.458451Z",
     "start_time": "2020-05-18T14:19:42.397445Z"
    }
   },
   "outputs": [],
   "source": [
    "# convert each row to a dict\n",
    "\n",
    "tst_dict = df.to_dict\n",
    "row_dicts = df.to_dict(orient='records')"
   ]
  },
  {
   "cell_type": "code",
   "execution_count": 16,
   "metadata": {
    "ExecuteTime": {
     "end_time": "2020-05-18T14:19:44.996342Z",
     "start_time": "2020-05-18T14:19:44.953336Z"
    },
    "code_folding": [],
    "scrolled": true
   },
   "outputs": [
    {
     "name": "stdout",
     "output_type": "stream",
     "text": [
      "{0: 'Devansh D. Sharma',\n",
      " 1: '01_devansh@domain.com',\n",
      " 2: 'Summary_4',\n",
      " 3: 'Please go to Summary_4 at timings mentioned in the event.',\n",
      " 4: 'Address_4',\n",
      " 5: '2020-05-19',\n",
      " 6: '9:00:00',\n",
      " 7: '2020-05-19',\n",
      " 8: '18:00:00',\n",
      " 9: '2020-05-19T9:00:00.000+02:00',\n",
      " 10: '2020-05-19T18:00:00.000+02:00',\n",
      " 11: None,\n",
      " 12: None,\n",
      " 13: None}\n",
      "\n",
      "\n"
     ]
    }
   ],
   "source": [
    "# put all dicts in one list - event_dict_RD\n",
    "\n",
    "events_master_lst = []  # master event list\n",
    "\n",
    "for i in range(len(row_dicts)):\n",
    "    pp.pprint(row_dicts[i])\n",
    "    events_master_lst.append(row_dicts[i])\n",
    "    print('\\n')"
   ]
  },
  {
   "cell_type": "code",
   "execution_count": 17,
   "metadata": {
    "ExecuteTime": {
     "end_time": "2020-05-18T14:19:47.632446Z",
     "start_time": "2020-05-18T14:19:47.551443Z"
    },
    "code_folding": []
   },
   "outputs": [
    {
     "name": "stdout",
     "output_type": "stream",
     "text": [
      "{'summary': 'Summary_4', 'location': 'Address_4', 'description': 'Please go to Summary_4 at timings mentioned in the event.', 'start': {'dateTime': '2020-05-19T9:00:00.000+02:00', 'timeZone': 'Europe/Paris'}, 'end': {'dateTime': '2020-05-19T18:00:00.000+02:00', 'timeZone': 'Europe/Paris'}, 'attendees': [{'email': '01_devansh@domain.com'}], 'reminders': {'useDefault': False, 'overrides': [{'method': 'email', 'minutes': 1440}, {'method': 'popup', 'minutes': 10}]}} \n",
      "\n"
     ]
    }
   ],
   "source": [
    "# create event dicts for each event using the [event_dict_RD]\n",
    "# These are the final event dicts sent to Google API to create events\n",
    "\n",
    "event_dict_RD = []\n",
    "\n",
    "for event in events_master_lst:\n",
    "    email = event.get(1)\n",
    "    title = event.get(2)\n",
    "    description = event.get(3)\n",
    "    address = event.get(4)\n",
    "    ev_start = event.get(9)\n",
    "    ev_end = event.get(10)\n",
    "\n",
    "    event_dict_from_rd = {\n",
    "        'summary': title,\n",
    "        'location': address,\n",
    "        'description': description,\n",
    "        'start': {\n",
    "            'dateTime': str(ev_start),\n",
    "            'timeZone': \"Europe/Paris\",\n",
    "        },\n",
    "        'end': {\n",
    "            'dateTime': str(ev_end),\n",
    "            'timeZone': \"Europe/Paris\",\n",
    "        },\n",
    "        #       'recurrence': [\n",
    "        #         'RRULE:FREQ=DAILY;COUNT=1'\n",
    "        #       ],\n",
    "        'attendees': [{\n",
    "            'email': email\n",
    "        }],\n",
    "        'reminders': {\n",
    "            'useDefault':\n",
    "            False,\n",
    "            'overrides': [\n",
    "                {\n",
    "                    'method': 'email',\n",
    "                    'minutes': 24 * 60\n",
    "                },\n",
    "                {\n",
    "                    'method': 'popup',\n",
    "                    'minutes': 10\n",
    "                },\n",
    "            ],\n",
    "        },\n",
    "    }\n",
    "\n",
    "    print(event_dict_from_rd, '\\n')\n",
    "    event_dict_RD.append(event_dict_from_rd)"
   ]
  },
  {
   "cell_type": "markdown",
   "metadata": {},
   "source": [
    "### Event Creation"
   ]
  },
  {
   "cell_type": "code",
   "execution_count": 18,
   "metadata": {
    "ExecuteTime": {
     "end_time": "2020-05-18T14:19:50.803571Z",
     "start_time": "2020-05-18T14:19:50.753569Z"
    }
   },
   "outputs": [],
   "source": [
    "# auth for event creation\n",
    "\n",
    "SCOPES = ['https://www.googleapis.com/auth/calendar']\n",
    "creds = None\n",
    "# The file token.pickle stores the user's access and refresh tokens, and is\n",
    "# created automatically when the authorization flow completes for the first\n",
    "# time.\n",
    "if os.path.exists('token_for_event_creation.pickle'):\n",
    "    with open('token_for_event_creation.pickle', 'rb') as token:\n",
    "        creds = pickle.load(token)\n",
    "# If there are no (valid) credentials available, let the user log in.\n",
    "if not creds or not creds.valid:\n",
    "    if creds and creds.expired and creds.refresh_token:\n",
    "        creds.refresh(Request())\n",
    "    else:\n",
    "        flow = InstalledAppFlow.from_client_secrets_file(\n",
    "            'credentials_gCal.json', SCOPES)\n",
    "        creds = flow.run_local_server(port=0)\n",
    "    # Save the credentials for the next run\n",
    "    with open('token_for_event_creation.pickle', 'wb') as token:\n",
    "        pickle.dump(creds, token)"
   ]
  },
  {
   "cell_type": "code",
   "execution_count": null,
   "metadata": {
    "ExecuteTime": {
     "end_time": "2020-05-18T14:19:58.344370Z",
     "start_time": "2020-05-18T14:19:53.962526Z"
    }
   },
   "outputs": [],
   "source": [
    "# create the events & store info like event link & event IDs into lists\n",
    "\n",
    "event_ids_list = []\n",
    "ev_links = []\n",
    "\n",
    "for i in range(len(event_dict_RD)):\n",
    "    service = build('calendar', 'v3', credentials=creds)\n",
    "    event = service.events().insert(calendarId='primary',\n",
    "                                    sendUpdates='all',\n",
    "                                    body=event_dict_RD[i]).execute()\n",
    "    ev_id = event.get('id')\n",
    "    event_link = event.get('htmlLink')\n",
    "    ev_links.append(event_link)\n",
    "    event_ids_list.append(ev_id)\n",
    "    print(\"#\", i + 1, \"|\", \"ev_id: \", ev_id, event_dict_RD[i].get('summary'),\n",
    "          \"//\", 'Event created: ', event_link, \"\\n\")"
   ]
  },
  {
   "cell_type": "markdown",
   "metadata": {},
   "source": [
    "## Write feedback to Google Sheet"
   ]
  },
  {
   "cell_type": "code",
   "execution_count": null,
   "metadata": {
    "ExecuteTime": {
     "end_time": "2020-05-18T14:21:51.630018Z",
     "start_time": "2020-05-18T14:21:51.593014Z"
    }
   },
   "outputs": [],
   "source": [
    "# create a DataFrame of feedback\n",
    "\n",
    "responses_lst = []\n",
    "\n",
    "df_len = len(df)\n",
    "\n",
    "for l in range(last_Y, df_len + last_Y):\n",
    "    responses_lst.append('Y')\n",
    "\n",
    "df_feedback = pd.DataFrame(data=ev_links)\n",
    "df_feedback[1] = pd.DataFrame(data=responses_lst)\n",
    "\n",
    "df_feedback"
   ]
  },
  {
   "cell_type": "code",
   "execution_count": null,
   "metadata": {
    "ExecuteTime": {
     "end_time": "2020-05-18T14:22:06.133933Z",
     "start_time": "2020-05-18T14:21:59.270981Z"
    }
   },
   "outputs": [],
   "source": [
    "# write the DF to the sheet\n",
    "\n",
    "write2gs(df_feedback.where((pd.notnull(df_feedback)), None).values.tolist(),'1FjQ1b1OQdEkgRk9F6C4x99MAXUqC1DpgU8De5rRUSr4', 'Create Events for Buyers!L' + str(last_Y + 1 ) + \":M\" + str(df_feedback.shape[0] + last_Y), creds)"
   ]
  },
  {
   "cell_type": "markdown",
   "metadata": {},
   "source": [
    "### Reference\n",
    "* Sheet link - https://docs.google.com/spreadsheets/d/1XYQG_mAisQrNRMiRpOCCHPIJuy-T9RbaEtURvv_O5Os/edit?usp=sharing\n",
    "* [Recurrence 1]: https://developers.google.com/calendar/concepts/events-calendars\n",
    "* [Recurrence 2] : https://developers.google.com/calendar/recurringevents\n",
    "* [Insert] : https://developers.google.com/calendar/v3/reference/events/insert\n",
    "* [Full event dict structure] : https://developers.google.com/calendar/v3/reference/events"
   ]
  }
 ],
 "metadata": {
  "kernelspec": {
   "display_name": "Python 3",
   "language": "python",
   "name": "python3"
  },
  "language_info": {
   "codemirror_mode": {
    "name": "ipython",
    "version": 3
   },
   "file_extension": ".py",
   "mimetype": "text/x-python",
   "name": "python",
   "nbconvert_exporter": "python",
   "pygments_lexer": "ipython3",
   "version": "3.7.2"
  },
  "nbTranslate": {
   "displayLangs": [
    "*"
   ],
   "hotkey": "alt-t",
   "langInMainMenu": true,
   "sourceLang": "en",
   "targetLang": "fr",
   "useGoogleTranslate": true
  },
  "varInspector": {
   "cols": {
    "lenName": 16,
    "lenType": 16,
    "lenVar": 40
   },
   "kernels_config": {
    "python": {
     "delete_cmd_postfix": "",
     "delete_cmd_prefix": "del ",
     "library": "var_list.py",
     "varRefreshCmd": "print(var_dic_list())"
    },
    "r": {
     "delete_cmd_postfix": ") ",
     "delete_cmd_prefix": "rm(",
     "library": "var_list.r",
     "varRefreshCmd": "cat(var_dic_list()) "
    }
   },
   "types_to_exclude": [
    "module",
    "function",
    "builtin_function_or_method",
    "instance",
    "_Feature"
   ],
   "window_display": false
  }
 },
 "nbformat": 4,
 "nbformat_minor": 4
}
